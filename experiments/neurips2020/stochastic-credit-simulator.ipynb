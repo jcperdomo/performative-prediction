{
 "cells": [
  {
   "cell_type": "markdown",
   "metadata": {},
   "source": [
    "# Credit Score Simulator with finite samples"
   ]
  },
  {
   "cell_type": "markdown",
   "metadata": {},
   "source": [
    "This code extends the credit score simulator of _Perdomo et al. Performative Prediction, ICML 2020_ as published in https://whynot.readthedocs.io/en/latest/simulators.html#credit-simulator \n",
    "\n",
    "Our extension implements the different finite sample training algorithms analyzed in our NeurIPS submission"
   ]
  },
  {
   "cell_type": "markdown",
   "metadata": {},
   "source": [
    "## Setting up experiments"
   ]
  },
  {
   "cell_type": "markdown",
   "metadata": {},
   "source": [
    " #### i) Load relevant libraries for simulation and plotting"
   ]
  },
  {
   "cell_type": "code",
   "execution_count": 1,
   "metadata": {},
   "outputs": [],
   "source": [
    "%load_ext autoreload\n",
    "%autoreload 2\n",
    "\n",
    "import numpy as np\n",
    "import matplotlib.pyplot as plt\n",
    "from matplotlib import rc\n",
    "import matplotlib\n",
    "import matplotlib.ticker as mtick\n",
    "from matplotlib.ticker import FormatStrFormatter\n",
    "from matplotlib.lines import Line2D\n",
    "\n",
    "%matplotlib inline"
   ]
  },
  {
   "cell_type": "markdown",
   "metadata": {},
   "source": [
    "#### ii) Loading data \n",
    "\n",
    "We perform our experiments on the *Give me a credit* dataset available at https://www.kaggle.com/c/GiveMeSomeCredit. The dataset contains features of individuals and an indicator variable on whether they defaulted on a loan or not. \n",
    "\n",
    "**Note:** To run this notebook the data needs to be downloaded and the _path_to_csv_file_ variable in the following cell needs to point to the file location."
   ]
  },
  {
   "cell_type": "code",
   "execution_count": 2,
   "metadata": {},
   "outputs": [
    {
     "name": "stdout",
     "output_type": "stream",
     "text": [
      "n= 18357\n",
      "d= 10\n"
     ]
    }
   ],
   "source": [
    "# load data\n",
    "from data_prep import load_data\n",
    "\n",
    "path_to_csv_file = './kaggle_data/cs-training.csv'\n",
    "X, Y, data = load_data(path_to_csv_file)\n",
    "\n",
    "n = X.shape[0]\n",
    "d = X.shape[1] - 1\n",
    "\n",
    "print('n=',n)\n",
    "print('d=',d)"
   ]
  },
  {
   "cell_type": "markdown",
   "metadata": {},
   "source": [
    "#### iii) Defining model parameters for logistic regression model\n",
    "\n",
    "We implement a logistic regression objective as stated explicitly in Appendix A.2 of our submission"
   ]
  },
  {
   "cell_type": "code",
   "execution_count": 3,
   "metadata": {},
   "outputs": [
    {
     "name": "stdout",
     "output_type": "stream",
     "text": [
      "smoothness (beta) =  4.72075879618174\n",
      "strong-convexity (gamma) =  0.054475132102195345\n",
      "Condition Number:  86.6589692215082\n",
      "L:  60.6651849679755\n",
      "\n",
      "inverse condition number =  0.011539486437277011\n"
     ]
    }
   ],
   "source": [
    "# set regularizer\n",
    "lam = 1000.0/n\n",
    "\n",
    "# find problem parameters\n",
    "gamma = lam\n",
    "beta  = lam + np.sum(np.square(np.linalg.norm(X, axis=1))) / (4.0 * n)\n",
    "\n",
    "print('smoothness (beta) = ',beta)\n",
    "print('strong-convexity (gamma) = ',gamma)\n",
    "print('Condition Number: ', beta / gamma)\n",
    "\n",
    "# stepsize parameter\n",
    "L = np.sum(np.square(np.square(np.linalg.norm(X, axis=1))/4.0+lam))\n",
    "L = np.sqrt(L*2.0 / n)\n",
    "print('L: ', L)\n",
    "\n",
    "# convergence condition\n",
    "eps_bound = gamma/beta\n",
    "print('\\ninverse condition number = ',eps_bound)"
   ]
  },
  {
   "cell_type": "markdown",
   "metadata": {},
   "source": [
    "## Training ERM classifier \n",
    "\n",
    "We first train a logistic regression classifier on the given set of features and labels. \n",
    "This corresponds to the classical supervised learning procedure and serves as initialization for later experiments."
   ]
  },
  {
   "cell_type": "code",
   "execution_count": 4,
   "metadata": {},
   "outputs": [
    {
     "name": "stdout",
     "output_type": "stream",
     "text": [
      "loss:  0.6504405134551534\n",
      "Accuracy:  0.6642697608541701\n"
     ]
    }
   ],
   "source": [
    "from logistic_regression import run_gd, evaluate_loss\n",
    "\n",
    "# fit model using GD\n",
    "theta_list_GD, loss_list_GD = run_gd(X, Y, lam, n_steps = 1000, tol = 0)\n",
    "\n",
    "# evaluate final model\n",
    "theta_ERM = theta_list_GD[-1]\n",
    "loss_ERM  = evaluate_loss(X, Y, theta_ERM, lam)\n",
    "\n",
    "print('loss: ', loss_ERM)\n",
    "print('Accuracy: ', ((X.dot(theta_ERM) > 0)  == Y).mean())"
   ]
  },
  {
   "cell_type": "markdown",
   "metadata": {},
   "source": [
    "visualize convergence"
   ]
  },
  {
   "cell_type": "code",
   "execution_count": 5,
   "metadata": {},
   "outputs": [
    {
     "data": {
      "image/png": "[encoded data removed]",
      "text/plain": [
       "<Figure size 432x288 with 1 Axes>"
      ]
     },
     "metadata": {
      "needs_background": "light"
     },
     "output_type": "display_data"
    }
   ],
   "source": [
    "delta_GD = [np.linalg.norm(theta-theta_ERM) for theta in theta_list_GD]\n",
    "\n",
    "plt.figure()\n",
    "plt.plot(loss_list_GD - loss_ERM)\n",
    "plt.ylabel('ERM suboptimality')\n",
    "plt.xlabel('GD steps')\n",
    "plt.yscale('log')\n",
    "plt.grid()"
   ]
  },
  {
   "cell_type": "markdown",
   "metadata": {},
   "source": [
    "## Simulations with performativity"
   ]
  },
  {
   "cell_type": "markdown",
   "metadata": {},
   "source": [
    "We now simulate strategic adaptation to every single deployment of a classifier during the SGD training procedure"
   ]
  },
  {
   "cell_type": "markdown",
   "metadata": {},
   "source": [
    "#### i) Define performativity model and distribution map"
   ]
  },
  {
   "cell_type": "code",
   "execution_count": 6,
   "metadata": {},
   "outputs": [
    {
     "name": "stdout",
     "output_type": "stream",
     "text": [
      "Strategic Features: \n",
      "\n",
      "0 RevolvingUtilizationOfUnsecuredLines\n",
      "1 NumberOfOpenCreditLinesAndLoans\n",
      "2 NumberRealEstateLoansOrLines\n"
     ]
    }
   ],
   "source": [
    "# strategic feature indices\n",
    "strat_features = np.array(range(10))\n",
    "strat_features = np.array([1, 6, 8]) - 1 # for later\n",
    "\n",
    "print('Strategic Features: \\n')\n",
    "for i, feature in enumerate(strat_features):\n",
    "    print(i, data.columns[feature + 1])\n",
    "\n",
    "# strength of perfromativity (sensitivity parameter)\n",
    "eps_list = [0.001,100.0]\n",
    "    \n",
    "# best response function for agents, linear utilities quadratic costs\n",
    "def best_response(X, theta, epsilon, strat_features):\n",
    "    \n",
    "    n = X.shape[0]\n",
    "    X_strat = np.copy(X)\n",
    "    \n",
    "    for i in range(n):\n",
    "        # move everything by epsilon in the direction towards better classification\n",
    "        theta_strat = theta[strat_features]\n",
    "        X_strat[i, strat_features] += -epsilon * theta_strat\n",
    "\n",
    "    return X_strat"
   ]
  },
  {
   "cell_type": "markdown",
   "metadata": {},
   "source": [
    "#### ii) Find performatively stable point using gradient descent \n",
    "\n",
    "the perfromatively stable point is computed for all values of eps in *eps_list* and recorded"
   ]
  },
  {
   "cell_type": "code",
   "execution_count": 7,
   "metadata": {},
   "outputs": [
    {
     "name": "stdout",
     "output_type": "stream",
     "text": [
      "0: distance between iterates = 2.393169801815e-06, distance from ERM = 2.393169801815e-06\n",
      "1: distance between iterates = 9.285636917275132e-09, distance from ERM = 2.399607894641406e-06\n",
      "2: distance between iterates = 1.1222281345704502e-11, distance from ERM = 2.3996152541238772e-06\n",
      "3: distance between iterates = 2.3278953896057584e-09, distance from ERM = 2.401130081602418e-06\n",
      "4: distance between iterates = 1.4971157223498841e-09, distance from ERM = 2.402078735407125e-06\n",
      "5: distance between iterates = 2.6020852139652106e-16, distance from ERM = 2.402078735406919e-06\n",
      "6: distance between iterates = 1.3010426069826053e-16, distance from ERM = 2.4020787354068167e-06\n",
      "7: distance between iterates = 0.0, distance from ERM = 2.4020787354068167e-06\n",
      "8: distance between iterates = 0.0, distance from ERM = 2.4020787354068167e-06\n",
      "9: distance between iterates = 0.0, distance from ERM = 2.4020787354068167e-06\n",
      "0: distance between iterates = 0.06946057945401667, distance from ERM = 0.06946057945401667\n",
      "1: distance between iterates = 0.038065841549590584, distance from ERM = 0.06371264627139263\n",
      "2: distance between iterates = 0.05109624276931279, distance from ERM = 0.11026964414873812\n",
      "3: distance between iterates = 0.026900672074917604, distance from ERM = 0.10902405110222049\n",
      "4: distance between iterates = 0.03747095394873957, distance from ERM = 0.14263905685626066\n",
      "5: distance between iterates = 0.018751867068074416, distance from ERM = 0.1427650767698021\n",
      "6: distance between iterates = 0.02695979109891937, distance from ERM = 0.1669717275082651\n",
      "7: distance between iterates = 0.012998558314403668, distance from ERM = 0.1678802510322347\n",
      "8: distance between iterates = 0.01917705280072693, distance from ERM = 0.18517574192481734\n",
      "9: distance between iterates = 0.009018231856513402, distance from ERM = 0.1864090115570871\n",
      "10: distance between iterates = 0.013597252799647064, distance from ERM = 0.19874832414844007\n",
      "11: distance between iterates = 0.006289405688773986, distance from ERM = 0.2000580413434886\n",
      "12: distance between iterates = 0.009656652166721997, distance from ERM = 0.2088871132843667\n",
      "13: distance between iterates = 0.004423868630171606, distance from ERM = 0.21014841412943325\n",
      "14: distance between iterates = 0.0068878335735953694, distance from ERM = 0.21649938194483465\n",
      "15: distance between iterates = 0.0031472380664281725, distance from ERM = 0.2176530620875366\n",
      "16: distance between iterates = 0.004941603809857764, distance from ERM = 0.22225100840648954\n",
      "17: distance between iterates = 0.002269808169015426, distance from ERM = 0.22327313752785194\n",
      "18: distance between iterates = 0.0035688162983038793, distance from ERM = 0.2266248807767601\n",
      "19: distance between iterates = 0.0016619868739147817, distance from ERM = 0.22751079611436337\n",
      "20: distance between iterates = 0.0025953981114412196, distance from ERM = 0.22997093884844994\n",
      "21: distance between iterates = 0.001236020015345328, distance from ERM = 0.23072641256709792\n",
      "22: distance between iterates = 0.0019007959205115292, distance from ERM = 0.23254412909254593\n",
      "23: distance between iterates = 0.0009329643509894584, distance from ERM = 0.23318027104809885\n",
      "24: distance between iterates = 0.0014017176870267127, distance from ERM = 0.2345317293743995\n",
      "25: distance between iterates = 0.0007135306526777899, distance from ERM = 0.23506196466964357\n",
      "26: distance between iterates = 0.0010405408166083068, distance from ERM = 0.2360725989841217\n",
      "27: distance between iterates = 0.000551676408699347, distance from ERM = 0.23651087015310737\n",
      "28: distance between iterates = 0.0007772613397575019, distance from ERM = 0.23727065834117286\n",
      "29: distance between iterates = 0.0004301571488128066, distance from ERM = 0.2376303832987843\n",
      "30: distance between iterates = 0.0005839700528424128, distance from ERM = 0.23820435401092954\n",
      "31: distance between iterates = 0.0003374880148487706, distance from ERM = 0.23849786173472473\n",
      "32: distance between iterates = 0.00044108102413331645, distance from ERM = 0.23893335710222113\n",
      "33: distance between iterates = 0.00026591618322678194, distance from ERM = 0.23917162636804135\n",
      "34: distance between iterates = 0.00033475888577422154, distance from ERM = 0.23950335456096847\n",
      "35: distance between iterates = 0.0002101004838215553, distance from ERM = 0.23969594183210988\n",
      "36: distance between iterates = 0.0002551613385530987, distance from ERM = 0.23994951746463758\n",
      "37: distance between iterates = 0.00016626864508917374, distance from ERM = 0.2401045983868151\n",
      "38: distance between iterates = 0.00019523500775035988, distance from ERM = 0.24029904220083498\n",
      "39: distance between iterates = 0.00013168576995404804, distance from ERM = 0.2404235165816943\n",
      "40: distance between iterates = 0.00014988709085086196, distance from ERM = 0.24057303394727217\n",
      "41: distance between iterates = 0.00010431968201994638, distance from ERM = 0.24067266142260058\n",
      "42: distance between iterates = 0.00011541271265544895, distance from ERM = 0.24078791739312538\n",
      "43: distance between iterates = 8.262828502299156e-05, distance from ERM = 0.2408674628941046\n",
      "44: distance between iterates = 8.909679938485493e-05, distance from ERM = 0.24095650313524292\n",
      "45: distance between iterates = 6.542179143289196e-05, distance from ERM = 0.24101987942987715\n",
      "46: distance between iterates = 6.89355239324738e-05, distance from ERM = 0.24108880014241071\n",
      "47: distance between iterates = 5.177093233994109e-05, distance from ERM = 0.241139200235809\n",
      "48: distance between iterates = 5.344006010235766e-05, distance from ERM = 0.2411926388136157\n",
      "49: distance between iterates = 4.094374155723267e-05, distance from ERM = 0.24123265463306404\n",
      "50: distance between iterates = 4.149730613114422e-05, distance from ERM = 0.24127415134373048\n",
      "51: distance between iterates = 3.236049474181188e-05, distance from ERM = 0.24130587746491508\n",
      "52: distance between iterates = 3.227028328310774e-05, distance from ERM = 0.24133814366900208\n",
      "53: distance between iterates = 2.5560546559536866e-05, distance from ERM = 0.24136326626470309\n",
      "54: distance between iterates = 2.5126353936262747e-05, distance from ERM = 0.24138838444497132\n",
      "55: distance between iterates = 2.0177257470129628e-05, distance from ERM = 0.24140825644934705\n",
      "56: distance between iterates = 1.9585089141042698e-05, distance from ERM = 0.2414278301634804\n",
      "57: distance between iterates = 1.59186362726385e-05, distance from ERM = 0.2414435340520286\n",
      "58: distance between iterates = 1.5280121489761003e-05, distance from ERM = 0.24145880088439067\n",
      "59: distance between iterates = 1.2552168822495913e-05, distance from ERM = 0.24147120061806412\n",
      "60: distance between iterates = 1.1931030020013439e-05, distance from ERM = 0.24148311763400337\n",
      "61: distance between iterates = 9.892807098665734e-06, distance from ERM = 0.24149290130652493\n",
      "62: distance between iterates = 9.322477913848471e-06, distance from ERM = 0.24150220996187569\n",
      "63: distance between iterates = 7.793400752268626e-06, distance from ERM = 0.2415099245899992\n",
      "64: distance between iterates = 7.288634136356162e-06, distance from ERM = 0.2415172002139699\n",
      "65: distance between iterates = 6.137048112943072e-06, distance from ERM = 0.24152327996590878\n",
      "66: distance between iterates = 5.701473226873056e-06, distance from ERM = 0.24152896960730133\n",
      "67: distance between iterates = 4.830972301599937e-06, distance from ERM = 0.24153375860315807\n",
      "68: distance between iterates = 4.4619415155558e-06, distance from ERM = 0.2415382100618303\n",
      "69: distance between iterates = 3.801617170262678e-06, distance from ERM = 0.24154198071886812\n",
      "70: distance between iterates = 3.4932559187329194e-06, distance from ERM = 0.24154546487440184\n",
      "71: distance between iterates = 2.990722295380538e-06, distance from ERM = 0.2415484326191732\n",
      "72: distance between iterates = 2.735798976896928e-06, distance from ERM = 0.24155116064493293\n",
      "73: distance between iterates = 2.3521848321573336e-06, distance from ERM = 0.24155349567853768\n",
      "74: distance between iterates = 2.143215305113089e-06, distance from ERM = 0.24155563234068914\n",
      "75: distance between iterates = 1.8495537461385794e-06, distance from ERM = 0.2415574690246265\n",
      "76: distance between iterates = 1.6794168205801858e-06, distance from ERM = 0.24155914297582756\n",
      "77: distance between iterates = 1.4540318111397787e-06, distance from ERM = 0.24156058730399887\n"
     ]
    },
    {
     "name": "stdout",
     "output_type": "stream",
     "text": [
      "78: distance between iterates = 1.258393267319626e-06, distance from ERM = 0.24156184193870556\n",
      "79: distance between iterates = 1.123039225959236e-06, distance from ERM = 0.24156295665323563\n",
      "80: distance between iterates = 4.687978994630129e-07, distance from ERM = 0.24156342414565599\n",
      "81: distance between iterates = 7.1341950426625e-07, distance from ERM = 0.2415641154222809\n",
      "82: distance between iterates = 4.5784838872127017e-07, distance from ERM = 0.24156456668175277\n",
      "83: distance between iterates = 6.342115678975576e-07, distance from ERM = 0.24156516881291745\n",
      "84: distance between iterates = 4.870492153293659e-07, distance from ERM = 0.24156564666490704\n",
      "85: distance between iterates = 1.4002092289128482e-07, distance from ERM = 0.24156573576409218\n",
      "86: distance between iterates = 1.3607024945217385e-07, distance from ERM = 0.24156584539483505\n",
      "87: distance between iterates = 8.909025253735247e-08, distance from ERM = 0.24156587625435932\n",
      "88: distance between iterates = 3.671889668496324e-07, distance from ERM = 0.2415662432974999\n",
      "89: distance between iterates = 5.812507545379419e-08, distance from ERM = 0.24156629823903839\n",
      "90: distance between iterates = 1.3134309690188663e-07, distance from ERM = 0.24156642926571817\n",
      "91: distance between iterates = 6.991578863085147e-08, distance from ERM = 0.24156649888342238\n",
      "92: distance between iterates = 3.6512989793510825e-08, distance from ERM = 0.24156653535256123\n",
      "93: distance between iterates = 3.3574891708212892e-15, distance from ERM = 0.24156653535256456\n",
      "94: distance between iterates = 4.2215296061267746e-08, distance from ERM = 0.24156657698114614\n",
      "95: distance between iterates = 2.508274511200149e-08, distance from ERM = 0.24156660200062036\n",
      "96: distance between iterates = 1.3639853569661965e-07, distance from ERM = 0.24156673536330894\n",
      "97: distance between iterates = 1.1429139077150785e-07, distance from ERM = 0.2415668495620538\n",
      "98: distance between iterates = 1.017313733723638e-07, distance from ERM = 0.24156694832190123\n",
      "99: distance between iterates = 2.0280568358339938e-07, distance from ERM = 0.24156715034667967\n"
     ]
    }
   ],
   "source": [
    "# define number of deployments for each eps separately\n",
    "num_deployments = {}\n",
    "num_deployments[100] = 100\n",
    "num_deployments[0.001] = 10\n",
    "\n",
    "# record results\n",
    "theta_PS = {}\n",
    "record_theta = {}\n",
    "\n",
    "for c_e, eps in enumerate(eps_list):\n",
    "\n",
    "    # initialization\n",
    "    theta   = np.copy(theta_ERM)\n",
    "    X_strat = np.copy(X)\n",
    "\n",
    "    # record each theta\n",
    "    record_theta[eps] = [theta]\n",
    "\n",
    "    for k in range(num_deployments[eps]):\n",
    "\n",
    "        X_strat = best_response(X, theta, eps, strat_features) \n",
    "\n",
    "        # find minimizer using GD with LS\n",
    "        theta_list_gd, loss_list = run_gd(X_strat, Y, lam, tol=0, theta_init = theta, n_steps = 300)\n",
    "\n",
    "        theta = np.copy(theta_list_gd[-1])\n",
    "        record_theta[eps].append(theta)\n",
    "\n",
    "        # compute distance between consecutive iterates\n",
    "        delta_theta = np.linalg.norm(record_theta[eps][-1]-record_theta[eps][-2])\n",
    "\n",
    "        # compute distance from ERM initialization\n",
    "        delta_ERM = np.linalg.norm(theta-theta_ERM)\n",
    "\n",
    "        print('{}: distance between iterates = {}, distance from ERM = {}'.format(k,delta_theta,delta_ERM))\n",
    "\n",
    "    # store theta PS for all eps\n",
    "    theta_PS[eps] = np.copy(theta)  \n",
    "    "
   ]
  },
  {
   "cell_type": "code",
   "execution_count": 8,
   "metadata": {},
   "outputs": [
    {
     "name": "stderr",
     "output_type": "stream",
     "text": [
      "c:\\tools\\miniconda3\\lib\\site-packages\\matplotlib\\text.py:1150: FutureWarning: elementwise comparison failed; returning scalar instead, but in the future will perform elementwise comparison\n",
      "  if s != self._text:\n"
     ]
    },
    {
     "data": {
      "image/png": "[encoded data removed]",
      "text/plain": [
       "<Figure size 432x288 with 1 Axes>"
      ]
     },
     "metadata": {
      "needs_background": "light"
     },
     "output_type": "display_data"
    }
   ],
   "source": [
    "# visualize convergence to stable point\n",
    "eps = 100.0\n",
    "distance_PS = [np.linalg.norm(i-theta_PS[eps]) for i in record_theta[eps]]\n",
    "\n",
    "plt.figure()\n",
    "plt.title(strat_features)\n",
    "plt.plot(distance_PS)\n",
    "plt.title('eps = {}'.format(eps))\n",
    "plt.xlabel('deployments')\n",
    "plt.ylabel('distance to stable point')\n",
    "plt.yscale('log')\n",
    "plt.grid()"
   ]
  },
  {
   "cell_type": "markdown",
   "metadata": {},
   "source": [
    "#### iii) Simulate convergence of different SGD methods"
   ]
  },
  {
   "cell_type": "code",
   "execution_count": 9,
   "metadata": {},
   "outputs": [
    {
     "name": "stdout",
     "output_type": "stream",
     "text": [
      "running  greedy\n",
      "running greedy eps=0.0010 1 \n",
      "running greedy eps=1000 1 \n",
      "running  lazy-k\n",
      "running lazy-k eps=0.0010 1 \n",
      "running lazy-k eps=1000 1 \n",
      "running  lazy-k3\n",
      "running lazy-k3 eps=0.0010 1 \n",
      "running lazy-k3 eps=1000 1 \n"
     ]
    }
   ],
   "source": [
    "# methods to evaluate\n",
    "methods = ['greedy','lazy-k','lazy-k3']\n",
    "\n",
    "# number of epochs to simulate\n",
    "num_epochs = 50\n",
    "\n",
    "# eps values for simulation\n",
    "eps_list = [0.001,100]\n",
    "\n",
    "num_time_steps = num_epochs * n\n",
    "\n",
    "# number of repetitions \n",
    "# note: this number needs to be increased for nice confidence intervals\n",
    "num_rep = 2\n",
    "\n",
    "record_theta_deployed = {}\n",
    "\n",
    "for method in methods:\n",
    "    print('running ', method)\n",
    "    \n",
    "    record_theta_deployed[method] = {}\n",
    "    \n",
    "    for eps in eps_list:\n",
    "        \n",
    "        record_theta_deployed[method][eps] = {}\n",
    "        \n",
    "        print('running {} eps={}'.format(method, eps), end = '')\n",
    "    \n",
    "        for rep in range(num_rep):\n",
    "            \n",
    "            print('{} '.format(rep), end = '')\n",
    "            theta   = np.copy(theta_ERM)\n",
    "            \n",
    "            record_theta_deployed[method][eps][rep] = []\n",
    "\n",
    "            # currently deployed classifier is the last one in the list\n",
    "            theta_deployed = []\n",
    "\n",
    "            k = 0\n",
    "            t_next = 0\n",
    "\n",
    "            # number of deployments\n",
    "            for t in range(num_time_steps):\n",
    "\n",
    "                if t == t_next:\n",
    "                    \n",
    "                    theta_deployed.append(theta)\n",
    "\n",
    "                    k = k + 1\n",
    "                    t_loc = 1\n",
    "\n",
    "                    # define next deployment\n",
    "                    if method == 'lazy-k':\n",
    "                        t_next = t + k\n",
    "                    elif method == 'lazy-k3':\n",
    "                        t_next = t + k**3\n",
    "                    elif method == 'greedy':\n",
    "                        t_next = t + 1\n",
    "\n",
    "                idx = np.random.randint(n)\n",
    "\n",
    "                xi_strat = np.copy(X[idx,:])\n",
    "                yi = Y[idx]\n",
    "\n",
    "                xi_strat[strat_features] += - eps*theta_deployed[-1][strat_features]\n",
    "\n",
    "                exp_tx   = np.exp(xi_strat @ theta)\n",
    "                c        = exp_tx / (1 + exp_tx) - yi\n",
    "                gradient = xi_strat * c + lam * np.append(theta[:-1], 0)\n",
    "\n",
    "                # define stepsize sequence\n",
    "                # greedy deploy\n",
    "                if method == 'greedy':\n",
    "                    \n",
    "                    if eps <= gamma/beta:\n",
    "                        c_eta = 100.0 / (gamma - eps * beta)\n",
    "                        k0    = 8.0 * L**2 / (gamma - eps * beta)**2\n",
    "                    else:\n",
    "                        c_eta = 100.0 / gamma\n",
    "                        k0    = 8.0 * L**2 / (gamma**2)\n",
    "                        \n",
    "                    eta   = c_eta / (k0 + t)\n",
    "                \n",
    "                # lazy deploy\n",
    "                else: \n",
    "                    c_eta = 100.0 / gamma\n",
    "                    k0    = 8.0 * L**2 / gamma**2\n",
    "                    eta   = c_eta / (k0 + t_loc)  \n",
    "\n",
    "                theta_new = theta - eta * gradient\n",
    "                t_loc += 1\n",
    "\n",
    "                theta = np.copy(theta_new)\n",
    "                \n",
    "                # record history of classifiers at each time step\n",
    "                record_theta_deployed[method][eps][rep].append(theta_deployed[-1])\n",
    "\n",
    "        print('')"
   ]
  },
  {
   "cell_type": "markdown",
   "metadata": {},
   "source": [
    "#### iv) Visualization of SGD convergence"
   ]
  },
  {
   "cell_type": "code",
   "execution_count": 10,
   "metadata": {},
   "outputs": [],
   "source": [
    "# visualization with 90% confidence interval\n",
    "z = 1.645\n",
    "\n",
    "# legend entries\n",
    "names = {}\n",
    "names['greedy']     = 'greedy deploy'\n",
    "names['lazy-k']     = r'lazy deploy, $n(k) = k$'\n",
    "names['lazy-k3']    = r'lazy deploy, $n(k) = k^3$'"
   ]
  },
  {
   "cell_type": "markdown",
   "metadata": {},
   "source": [
    "convergence as a function of SGD steps"
   ]
  },
  {
   "cell_type": "code",
   "execution_count": 11,
   "metadata": {
    "scrolled": false
   },
   "outputs": [
    {
     "data": {
      "image/png": "[encoded data removed]",
      "text/plain": [
       "<Figure size 432x288 with 1 Axes>"
      ]
     },
     "metadata": {
      "needs_background": "light"
     },
     "output_type": "display_data"
    }
   ],
   "source": [
    "# pick a value of epsilon to plot\n",
    "eps = 100.0\n",
    "\n",
    "fig = plt.figure(figsize=(6,4)) \n",
    "\n",
    "# get color sequence\n",
    "colors = plt.rcParams[\"axes.prop_cycle\"].by_key()[\"color\"]\n",
    "ax     = plt.gca()\n",
    "\n",
    "ax.tick_params(axis='both', labelsize=12)\n",
    "\n",
    "for c_r, method in enumerate(methods):\n",
    "    \n",
    "    legend_entry = names[method]\n",
    "    \n",
    "    # subsample data to ease visualization\n",
    "    x_vals = [i*10000 for i in range(int(np.ceil((num_time_steps)/10000)))]    \n",
    "        \n",
    "    # compute distance to stable point\n",
    "    vals = np.zeros([num_rep, len(x_vals)])\n",
    "    for rep in range(num_rep):\n",
    "        vals[rep,:] = [np.linalg.norm(record_theta_deployed[method][eps][rep][x]-theta_PS[eps]) for x in x_vals] \n",
    "\n",
    "    avg_val = np.mean(vals, axis=0)\n",
    "    std_val = np.std(vals, axis=0)\n",
    "\n",
    "    # compute confidence intervals\n",
    "    lb = avg_val - z*std_val/np.sqrt(num_rep)\n",
    "    ub = avg_val + z*std_val/np.sqrt(num_rep)\n",
    "\n",
    "    plt.plot(x_vals,avg_val, label = legend_entry, color = colors[c_r])\n",
    "    plt.fill_between(x_vals,lb, ub, color = colors[c_r], alpha=.2)\n",
    "\n",
    "\n",
    "plt.plot(0,avg_val[0], marker = '*', color = colors[1], markerfacecolor=colors[0],ms=15)\n",
    "\n",
    "plt.xlabel('number of samples collected',fontsize = 14)\n",
    "plt.ylabel(r'distance to $\\theta_{PS}$',fontsize = 14)\n",
    "plt.grid()"
   ]
  },
  {
   "cell_type": "markdown",
   "metadata": {},
   "source": [
    "convergence as a function of the number of deployments"
   ]
  },
  {
   "cell_type": "code",
   "execution_count": 12,
   "metadata": {},
   "outputs": [
    {
     "data": {
      "text/plain": [
       "<matplotlib.legend.Legend at 0x1839cd72048>"
      ]
     },
     "execution_count": 12,
     "metadata": {},
     "output_type": "execute_result"
    },
    {
     "data": {
      "image/png": "[encoded data removed]",
      "text/plain": [
       "<Figure size 288x288 with 1 Axes>"
      ]
     },
     "metadata": {
      "needs_background": "light"
     },
     "output_type": "display_data"
    }
   ],
   "source": [
    "# print deployments\n",
    "eps = 100.0\n",
    "\n",
    "fig = plt.figure(figsize=(4,4)) \n",
    "\n",
    "colors = plt.rcParams[\"axes.prop_cycle\"].by_key()[\"color\"]\n",
    "ax = plt.gca()\n",
    "\n",
    "ax.tick_params(axis='both', labelsize=12)\n",
    "\n",
    "for c_r, method in enumerate(methods):\n",
    "    \n",
    "    legend_entry = names[method]\n",
    "          \n",
    "    # find deployment times for each method\n",
    "    if method == 'greedy':\n",
    "        \n",
    "        dt_vals = range(num_time_steps)\n",
    "        \n",
    "    elif method == 'lazy-k':\n",
    "        \n",
    "        dt_vals = []\n",
    "        \n",
    "        this_t = 0\n",
    "        k=0\n",
    "        while this_t < num_time_steps:\n",
    "            k=k+1\n",
    "            dt_vals.append(this_t)\n",
    "            this_t = this_t+k\n",
    "        \n",
    "        \n",
    "    elif method == 'lazy-k3':\n",
    "        \n",
    "        dt_vals = []\n",
    "        this_t = 0\n",
    "        k=0\n",
    "        while this_t < num_time_steps:\n",
    "            k=k+1\n",
    "            dt_vals.append(this_t)\n",
    "            this_t = this_t+k**3\n",
    "               \n",
    "    vals = np.zeros([num_rep, len(dt_vals)])\n",
    "\n",
    "    for rep in range(num_rep):\n",
    "        vals[rep,:] = [np.linalg.norm(record_theta_deployed[method][eps][rep][x]-theta_PS[eps]) for x in dt_vals] \n",
    "        \n",
    "    avg_val = np.mean(vals, axis=0)\n",
    "    std_val = np.std(vals, axis=0)\n",
    "\n",
    "    # compute confidence interval\n",
    "    lb = avg_val - z*std_val/np.sqrt(num_rep)\n",
    "    ub = avg_val + z*std_val/np.sqrt(num_rep)\n",
    "    \n",
    "    plt.plot(avg_val, label = legend_entry, color = colors[c_r])\n",
    "    plt.fill_between(range(len(dt_vals)),lb, ub, color = colors[c_r], alpha=.2)\n",
    "\n",
    "    \n",
    "plt.xlabel('number of deployments',fontsize = 14)\n",
    "plt.ylabel('distance to stable point',fontsize = 14)\n",
    "plt.grid()\n",
    "plt.xscale('log')\n",
    "\n",
    "plt.legend(fontsize = 13, loc = 'lower right')"
   ]
  }
 ],
 "metadata": {
  "kernelspec": {
   "display_name": "Python 3",
   "language": "python",
   "name": "python3"
  },
  "language_info": {
   "codemirror_mode": {
    "name": "ipython",
    "version": 3
   },
   "file_extension": ".py",
   "mimetype": "text/x-python",
   "name": "python",
   "nbconvert_exporter": "python",
   "pygments_lexer": "ipython3",
   "version": "3.7.3"
  }
 },
 "nbformat": 4,
 "nbformat_minor": 4
}
